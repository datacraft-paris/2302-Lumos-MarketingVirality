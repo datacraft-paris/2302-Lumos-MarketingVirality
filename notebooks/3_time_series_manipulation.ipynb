{
 "cells": [
  {
   "cell_type": "markdown",
   "id": "7f9454d2",
   "metadata": {},
   "source": [
    "### Problématique : Transformation des données en time serie, comment les utiliser?\n",
    "Objectif : On veut essayer de différencier les utilisateurs en utilisant la série temporelle lié aux événements générés dans l'application, via :\n",
    "* un clustering de serie temporelle\n",
    "* une utilisation de l’information comme une “anomaly détection” dans le futur dans une IOT\n",
    "> l'anomalie correspondrait à une prise de souscription"
   ]
  },
  {
   "cell_type": "markdown",
   "id": "0d1ca45b",
   "metadata": {},
   "source": [
    "### Import des librairies"
   ]
  },
  {
   "cell_type": "code",
   "execution_count": null,
   "id": "39ffabf8",
   "metadata": {},
   "outputs": [],
   "source": [
    "import pandas as pd\n",
    "import numpy as np"
   ]
  },
  {
   "cell_type": "code",
   "execution_count": null,
   "id": "0b6ccfdf-a472-48b8-a4fa-11d365f4336e",
   "metadata": {},
   "outputs": [],
   "source": [
    "import os\n",
    "\n",
    "def read_files(folder_path):\n",
    "    files = sorted([f for f in os.listdir(folder_path) if os.path.isfile(os.path.join(folder_path, f))])\n",
    "    dataframes = []\n",
    "    count = 0\n",
    "    for file in files:\n",
    "        print(file)\n",
    "        file_path = os.path.join(folder_path, file)\n",
    "        df = pd.read_parquet(file_path)\n",
    "        dataframes.append(df)\n",
    "    return dataframes\n",
    "\n",
    "\n",
    "def merge_dataframes(dataframes):\n",
    "    if len(dataframes) <= 10:\n",
    "        df = dataframes[0]\n",
    "        for i in range(1, len(dataframes)):\n",
    "            df = df.merge(dataframes[i], how='left', on='amplitude_id')\n",
    "        return df\n",
    "    else:\n",
    "        merged_dataframes = []\n",
    "        print(len(dataframes))\n",
    "        for i in range(0, len(dataframes), 10):\n",
    "            merged_df = merge_dataframes(dataframes[i:i+10])\n",
    "            merged_dataframes.append(merged_df)\n",
    "        return merge_dataframes(merged_dataframes)"
   ]
  },
  {
   "cell_type": "markdown",
   "id": "0c255c57-2a76-4932-9a63-1cc86b9c120f",
   "metadata": {},
   "source": [
    "# Agrégation : max "
   ]
  },
  {
   "cell_type": "markdown",
   "id": "11273aa9-c4d1-43cd-967c-f54a63fd25f0",
   "metadata": {},
   "source": [
    "### Dictionnaire explicant la préparation de la dataframe"
   ]
  },
  {
   "cell_type": "code",
   "execution_count": null,
   "id": "b692a90d-814c-4348-8b24-ef17ed68cecc",
   "metadata": {},
   "outputs": [],
   "source": [
    "# Changed and ordered the events putting payment events as 6 and cancellation as 7\n",
    "events_funnel = {\n",
    "    'first_app_open':1,\n",
    "    'app_open':1,\n",
    "    'session_start':1,\n",
    "    'session_end':1,\n",
    "    'onboarding_start':2,\n",
    "    'onboarding_page_view':2,\n",
    "    'onboarding_tap_continue':2,\n",
    "    'onboarding_finish':2,\n",
    "    'page_view':3,\n",
    "    'ac_click':3,\n",
    "    'ac_content_click':3,\n",
    "    'ac_content_routine_cancel':3,\n",
    "    'ac_sound_off':3,\n",
    "    'ac_sound_on':3,\n",
    "    'ac_timer_delay_set':3,\n",
    "    'play_sound_fail':3,\n",
    "    'ac_reset_statistics':3,\n",
    "    'payment_restore_fail':3,\n",
    "    'Tap_share_instagram_fail':3,\n",
    "    'Tap_share_instagram_success':3,\n",
    "    'Tap_share_twitter_success':3,\n",
    "    'na_att_deactivate':3,\n",
    "    'ac_daily_reminder_deactivate':3,\n",
    "    'na_notification_deactivate':3,\n",
    "    'ac_daily_reminder_activate':4,\n",
    "    'na_notification_activate':4,\n",
    "    'ac_content_routine_play':4,\n",
    "    'na_att_activate':4,\n",
    "    'ac_content_routine_start':4,\n",
    "    'ac_content_routine_pause':4,\n",
    "    'ac_content_routine_finish':4,\n",
    "    'ac_content_exercise_view_instructions':4,\n",
    "    'ac_content_custom_routine_create_start':4,\n",
    "    'ac_content_exercise_skip':4,\n",
    "    'ac_content_exercise_previous':4,\n",
    "    'ac_content_custom_routine_create_finish':4,\n",
    "    'ac_modal_next':4,\n",
    "    'ac_app_icon_change':4,\n",
    "    'rc_trial_cancelled_event':5,\n",
    "    'rc_uncancellation_event':5,\n",
    "    'page_view_paywall':5,\n",
    "    'payment_start':5,\n",
    "    'payment_failure':5,\n",
    "    'payment_cancel':5,\n",
    "    'rc_trial_started_event':6,\n",
    "    'rc_initial_purchase_event':6,\n",
    "    'payment_finish':6,\n",
    "    'payment_restore':6,\n",
    "    'rc_renewal_event':6,\n",
    "    'rc_non_subscription_purchase_event':6,\n",
    "    'rc_trial_converted_event':6,\n",
    "    'rc_cancellation_event':7}\n"
   ]
  },
  {
   "cell_type": "markdown",
   "id": "27bbc228",
   "metadata": {},
   "source": [
    "### dataframe by minutes"
   ]
  },
  {
   "cell_type": "code",
   "execution_count": null,
   "id": "0a49925f",
   "metadata": {
    "scrolled": true
   },
   "outputs": [],
   "source": [
    "df_minutes = pd.read_parquet('app_timeserie_min_agg_max_data_20230130.parquet', engine='pyarrow')\n",
    "df_minutes.head()\n",
    "print(\"Taille du dataframe : \", df_minutes.shape)"
   ]
  },
  {
   "cell_type": "markdown",
   "id": "8c2547f1-0da5-4ec5-8cb5-a04a0e253e75",
   "metadata": {},
   "source": [
    "### dataframe by hours"
   ]
  },
  {
   "cell_type": "code",
   "execution_count": null,
   "id": "169063d1-6175-4b5a-8d34-5dc0abca4775",
   "metadata": {
    "scrolled": true
   },
   "outputs": [],
   "source": [
    "df_hours = pd.read_parquet('app_timeserie_hourly_agg_max_data_20230130.parquet', engine='pyarrow')\n",
    "df_hours.head()\n",
    "print(\"Taille du dataframe : \", df_hours.shape)"
   ]
  },
  {
   "cell_type": "markdown",
   "id": "99760562-1415-4e79-b65f-d5af4c25fd54",
   "metadata": {},
   "source": [
    "### dataframe by seconds"
   ]
  },
  {
   "cell_type": "code",
   "execution_count": null,
   "id": "f42212cf-e033-402f-b44b-399b36b9ce77",
   "metadata": {
    "scrolled": true
   },
   "outputs": [],
   "source": [
    "df_seconds = concatenate_files('data_sec_timeframe_agg_max')\n",
    "df_seconds.head()\n",
    "print(\"Taille du dataframe : \", df_seconds.shape)"
   ]
  },
  {
   "cell_type": "markdown",
   "id": "cd80a23b-17dc-4d36-a3d0-23d91093db48",
   "metadata": {},
   "source": [
    "# Agrégation : sum "
   ]
  },
  {
   "cell_type": "markdown",
   "id": "08449530-22e5-4020-8d47-8e3a7454a61d",
   "metadata": {},
   "source": [
    "### Dictionnaire explicant la préparation de la dataframe"
   ]
  },
  {
   "cell_type": "code",
   "execution_count": null,
   "id": "6dda1aac-41c3-4ac5-8d27-c8a2f918145e",
   "metadata": {},
   "outputs": [],
   "source": [
    "# By funnel\n",
    "# 1 => amplitude automatic events\n",
    "# 2 => onboarding\n",
    "# 3 => usage of the app\n",
    "# 4 => important actions in the app\n",
    "# 5 => payment actions\n",
    "\n",
    "events_funnel = {\n",
    "    'session_start':1,\n",
    "    'onboarding_start':2,\n",
    "    'onboarding_page_view':2,\n",
    "    'first_app_open':1,\n",
    "    'onboarding_tap_continue':2,\n",
    "    'page_view':3,\n",
    "    'ac_click':3,\n",
    "    'na_att_deactivate':3,\n",
    "    'ac_daily_reminder_activate':4,\n",
    "    'na_notification_activate':4,\n",
    "    'onboarding_finish':2,\n",
    "    'page_view_paywall':5,\n",
    "    'payment_start':5,\n",
    "    'payment_failure':5,\n",
    "    'payment_cancel':5,\n",
    "    'ac_daily_reminder_deactivate':3,\n",
    "    'na_notification_deactivate':3,\n",
    "    'ac_content_click':3,\n",
    "    'ac_content_routine_play':4,\n",
    "    'session_end':1,\n",
    "    'na_att_activate':4,\n",
    "    'app_open':1,\n",
    "    'ac_content_routine_cancel':3,\n",
    "    'ac_content_routine_start':4,\n",
    "    'ac_app_icon_change':4,\n",
    "    'rc_initial_purchase_event':5,\n",
    "    'payment_finish':5,\n",
    "    'ac_content_routine_finish':4,\n",
    "    'ac_content_routine_pause':4,\n",
    "    'ac_content_exercise_view_instructions':4,\n",
    "    'rc_trial_started_event':5,\n",
    "    'rc_cancellation_event':5,\n",
    "    'ac_sound_off':3,\n",
    "    'ac_sound_on':3,\n",
    "    'ac_timer_delay_set':3,\n",
    "    'ac_content_custom_routine_create_start':4,\n",
    "    'ac_content_exercise_previous':4,\n",
    "    'ac_content_exercise_skip':4,\n",
    "    'payment_restore':5,\n",
    "    'ac_content_custom_routine_create_finish':4,\n",
    "    'ac_modal_next':4,\n",
    "    'rc_renewal_event':5,\n",
    "    'rc_trial_cancelled_event':5,\n",
    "    'play_sound_fail':3,\n",
    "    'ac_reset_statistics':3,\n",
    "    'payment_restore_fail':3,\n",
    "    'Tap_share_instagram_fail':3,\n",
    "    'rc_non_subscription_purchase_event':5,\n",
    "    'rc_trial_converted_event':5,\n",
    "    'rc_uncancellation_event':5,\n",
    "    'Tap_share_instagram_success':3,\n",
    "    'Tap_share_twitter_success':3\n",
    "}"
   ]
  },
  {
   "cell_type": "markdown",
   "id": "19d745e0-7ba5-4f0d-85cf-807cdd9c01c2",
   "metadata": {},
   "source": [
    "### dataframe by minutes"
   ]
  },
  {
   "cell_type": "code",
   "execution_count": null,
   "id": "198127f3-2da5-4e3e-a511-64b7212d5ca0",
   "metadata": {
    "scrolled": true
   },
   "outputs": [],
   "source": [
    "df_minutes = pd.read_parquet('app_timeserie_min_data_20230130.parquet', engine='pyarrow')\n",
    "df_minutes.head()\n",
    "print(\"Taille du dataframe : \", df_minutes.shape)"
   ]
  },
  {
   "cell_type": "markdown",
   "id": "f68c25e7-e5e2-4259-a750-5ef50fbc9456",
   "metadata": {},
   "source": [
    "### dataframe by hours"
   ]
  },
  {
   "cell_type": "code",
   "execution_count": null,
   "id": "d0360b6c-f885-430b-a94e-b03119f91854",
   "metadata": {
    "scrolled": true
   },
   "outputs": [],
   "source": [
    "df_hours = pd.read_parquet('app_timeserie_hourly_data_20230130.parquet', engine='pyarrow')\n",
    "df_hours.head()\n",
    "print(\"Taille du dataframe : \", df_hours.shape)"
   ]
  },
  {
   "cell_type": "markdown",
   "id": "ed8472ec-c29d-4d9d-a34e-6309f4e6deba",
   "metadata": {},
   "source": [
    "### dataframe by seconds"
   ]
  },
  {
   "cell_type": "code",
   "execution_count": null,
   "id": "de9ad2f2-b3da-4a6a-ad40-ed8d64fd3b73",
   "metadata": {},
   "outputs": [],
   "source": [
    "df_seconds = concatenate_files('data_by_minutes')\n",
    "df_seconds.head()\n",
    "print(\"Taille du dataframe : \", df_seconds.shape)"
   ]
  }
 ],
 "metadata": {
  "kernelspec": {
   "display_name": "conda_amazonei_pytorch_latest_p37",
   "language": "python",
   "name": "conda_amazonei_pytorch_latest_p37"
  },
  "language_info": {
   "codemirror_mode": {
    "name": "ipython",
    "version": 3
   },
   "file_extension": ".py",
   "mimetype": "text/x-python",
   "name": "python",
   "nbconvert_exporter": "python",
   "pygments_lexer": "ipython3",
   "version": "3.7.13"
  }
 },
 "nbformat": 4,
 "nbformat_minor": 5
}
